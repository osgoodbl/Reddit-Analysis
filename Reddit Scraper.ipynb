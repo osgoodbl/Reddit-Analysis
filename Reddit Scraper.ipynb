{
 "cells": [
  {
   "cell_type": "code",
   "execution_count": 1,
   "metadata": {},
   "outputs": [],
   "source": [
    "import requests\n",
    "import json\n",
    "import pandas as pd\n",
    "import datetime as dt\n",
    "import glob\n",
    "import time\n",
    "import numpy as np"
   ]
  },
  {
   "cell_type": "code",
   "execution_count": 2,
   "metadata": {},
   "outputs": [],
   "source": [
    "URL = \"http://www.reddit.com/hot.json\"\n",
    "res = requests.get(URL, headers = {'User-agent':'Brian bot 0.1'})\n",
    "posts = res.json()\n",
    "reddit_posts = []\n",
    "for postinside in range(len(res.json()[\"data\"][\"children\"])):\n",
    "        reddit_posts.append(res.json()[\"data\"][\"children\"][postinside][\"data\"])\n",
    "        \n",
    "red = pd.DataFrame(reddit_posts)\n",
    "time_now = pd.Timestamp.utcnow()\n",
    "red['time_fetched'] = time_now\n",
    "\n",
    "next_post = posts['data']['after']\n",
    "for i in range(0,30):\n",
    "    URL = \"http://www.reddit.com/hot.json?after=\" + next_post\n",
    "    res = requests.get(URL, headers = {'User-agent':'Brian O'})\n",
    "    post = res.json()\n",
    "    time_now = pd.Timestamp.utcnow()\n",
    "    next_post = post['data']['after']\n",
    "    post_df = [child['data'] for child in post['data']['children']]\n",
    "    post_df = pd.DataFrame(post_df)\n",
    "    red = pd.concat([red, post_df], ignore_index = True)\n",
    "    red['time_fetched'] = time_now\n",
    "    time.sleep(1)\n",
    "\n"
   ]
  },
  {
   "cell_type": "code",
   "execution_count": 3,
   "metadata": {},
   "outputs": [],
   "source": [
    "red.to_csv(\"./hot_CSV_Files/Fri_af.csv\")"
   ]
  },
  {
   "cell_type": "code",
   "execution_count": null,
   "metadata": {},
   "outputs": [],
   "source": []
  },
  {
   "cell_type": "code",
   "execution_count": null,
   "metadata": {},
   "outputs": [],
   "source": []
  }
 ],
 "metadata": {
  "kernelspec": {
   "display_name": "Python [default]",
   "language": "python",
   "name": "python3"
  },
  "language_info": {
   "codemirror_mode": {
    "name": "ipython",
    "version": 3
   },
   "file_extension": ".py",
   "mimetype": "text/x-python",
   "name": "python",
   "nbconvert_exporter": "python",
   "pygments_lexer": "ipython3",
   "version": "3.6.4"
  },
  "varInspector": {
   "cols": {
    "lenName": 16,
    "lenType": 16,
    "lenVar": 40
   },
   "kernels_config": {
    "python": {
     "delete_cmd_postfix": "",
     "delete_cmd_prefix": "del ",
     "library": "var_list.py",
     "varRefreshCmd": "print(var_dic_list())"
    },
    "r": {
     "delete_cmd_postfix": ") ",
     "delete_cmd_prefix": "rm(",
     "library": "var_list.r",
     "varRefreshCmd": "cat(var_dic_list()) "
    }
   },
   "types_to_exclude": [
    "module",
    "function",
    "builtin_function_or_method",
    "instance",
    "_Feature"
   ],
   "window_display": false
  }
 },
 "nbformat": 4,
 "nbformat_minor": 2
}
